{
 "cells": [
  {
   "cell_type": "code",
   "execution_count": 2,
   "metadata": {},
   "outputs": [
    {
     "name": "stdout",
     "output_type": "stream",
     "text": [
      "ok\n"
     ]
    }
   ],
   "source": [
    "print(\"ok\")"
   ]
  },
  {
   "cell_type": "code",
   "execution_count": 3,
   "metadata": {},
   "outputs": [
    {
     "data": {
      "text/plain": [
       "'d:\\\\Building-Stateful-Multi-AI-Agents-With-LangGraph\\\\research'"
      ]
     },
     "execution_count": 3,
     "metadata": {},
     "output_type": "execute_result"
    }
   ],
   "source": [
    "%pwd"
   ]
  },
  {
   "cell_type": "code",
   "execution_count": 4,
   "metadata": {},
   "outputs": [],
   "source": [
    "import os\n",
    "os.chdir(\"../\")"
   ]
  },
  {
   "cell_type": "code",
   "execution_count": 5,
   "metadata": {},
   "outputs": [
    {
     "data": {
      "text/plain": [
       "'d:\\\\Building-Stateful-Multi-AI-Agents-With-LangGraph'"
      ]
     },
     "execution_count": 5,
     "metadata": {},
     "output_type": "execute_result"
    }
   ],
   "source": [
    "%pwd"
   ]
  },
  {
   "cell_type": "code",
   "execution_count": 3,
   "metadata": {},
   "outputs": [],
   "source": [
    "from dotenv import load_dotenv  # Import the `load_dotenv` function to load environment variables from a `.env` file.\n",
    "import os  # Import the `os` module to interact with the operating system, specifically to access environment variables.\n",
    "import cassio  # type: ignore # Import the `cassio` module to work with the Astra DB database.\n",
    "# Load environment variables from a `.env` file and make them available in the environment.\n",
    "load_dotenv()\n",
    "# Retrieve the application token for Astra DB from the environment variables.\n",
    "ASTRA_DB_APPLICATION_TOKEN = os.getenv('ASTRA_DB_APPLICATION_TOKEN')  \n",
    "# Retrieve the database ID for Astra DB from the environment variables.\n",
    "ASTRA_DB_ID = os.getenv('ASTRA_DB_ID')\n",
    "# Initialize the connection to the Cassio database using the application token and database ID.\n",
    "cassio.init(token=ASTRA_DB_APPLICATION_TOKEN, database_id=ASTRA_DB_ID)"
   ]
  },
  {
   "cell_type": "code",
   "execution_count": 6,
   "metadata": {},
   "outputs": [],
   "source": [
    "from langchain.document_loaders import PyPDFLoader\n",
    "from langchain.text_splitter import RecursiveCharacterTextSplitter\n",
    "\n",
    "def load_and_split_pdf(file_path, chunk_size, chunk_overlap):\n",
    "    \"\"\"Load a single PDF and split into chunks with custom separators.\"\"\"\n",
    "    \n",
    "    # Load the PDF file\n",
    "    loader = PyPDFLoader(file_path)\n",
    "    documents = loader.load()\n",
    "\n",
    "    # Define custom separators for splitting text\n",
    "    separators = [\n",
    "        \"\\n\\n\",  # Paragraph break\n",
    "        \"\\n\",    # Line break\n",
    "        \" \",     # Space\n",
    "        \".\",     # Full stop\n",
    "        \",\",     # Comma\n",
    "        \"\\u200b\",  # Zero-width space\n",
    "        \"\\uff0c\",  # Fullwidth comma\n",
    "        \"\\u3001\",  # Ideographic comma\n",
    "        \"\\uff0e\",  # Fullwidth full stop\n",
    "        \"\\u3002\",  # Ideographic full stop\n",
    "        \"\"        # Empty separator\n",
    "    ]\n",
    "\n",
    "    # Create a text splitter with the given chunk size, overlap, and separators\n",
    "    text_splitter = RecursiveCharacterTextSplitter(\n",
    "        chunk_size=chunk_size, \n",
    "        chunk_overlap=chunk_overlap,\n",
    "        separators=separators\n",
    "    )\n",
    "    \n",
    "    # Split the documents into smaller chunks\n",
    "    return text_splitter.split_documents(documents)\n"
   ]
  },
  {
   "cell_type": "code",
   "execution_count": 7,
   "metadata": {},
   "outputs": [],
   "source": [
    "file_path = r\"D:\\Building-Stateful-Multi-AI-Agents-With-LangGraph\\data\\ThaiRecipes.pdf\"  # Path to the specific PDF file\n",
    "\n",
    "# Call the function with the file path\n",
    "doc_chunks = load_and_split_pdf(file_path, chunk_size=500, chunk_overlap=10)\n"
   ]
  },
  {
   "cell_type": "code",
   "execution_count": 8,
   "metadata": {},
   "outputs": [
    {
     "data": {
      "text/plain": [
       "[Document(metadata={'source': 'D:\\\\Building-Stateful-Multi-AI-Agents-With-LangGraph\\\\data\\\\ThaiRecipes.pdf', 'page': 0}, page_content='C O O K B O O K\\nwww.thaiselect.com www.thaiselect.com'),\n",
       " Document(metadata={'source': 'D:\\\\Building-Stateful-Multi-AI-Agents-With-LangGraph\\\\data\\\\ThaiRecipes.pdf', 'page': 1}, page_content='Thai SELECT Exotic, Healthy, Delicious Dining-Thai Style\\nThai food has rapidly grown in popularity among casual diners and gourmets alike, \\nearning it a status as one of the world’s most popular cuisines. While most people \\nthink of spicy meals laced with chilies as the predominant factor in Thai food, this is far \\nfrom the truth. \\nIn all Thai dishes, there must always be a balanced harmony of flavors. Whether in a'),\n",
       " Document(metadata={'source': 'D:\\\\Building-Stateful-Multi-AI-Agents-With-LangGraph\\\\data\\\\ThaiRecipes.pdf', 'page': 1}, page_content='rich or fragrant Thai curry, spicy soup, savory salad, or sweet dessert, the competing \\nand complementing flavors create a harmonious blend that once tasted, will never be \\nforgotten. Herbs and spices are surely the heart of a meal, for it is these ingredients \\nthat provide a dazzling array of delicious and exotic tastes that make Thai cuisine so \\ndistinct. In addition to chili, it is common to find garlic, lemongrass, basil, mint, and \\nother herbs and spices used in Thai cooking.'),\n",
       " Document(metadata={'source': 'D:\\\\Building-Stateful-Multi-AI-Agents-With-LangGraph\\\\data\\\\ThaiRecipes.pdf', 'page': 1}, page_content='The following popular Thai menus can be found in Thai restaurants worldwide.  For a \\nproper Thai culinary experience, look for the Thai SELECT logo: a sign of authentic Thai \\ncuisine worldwide.\\nApart from visiting Thai SELECT restaurants to experience Thai culinary delights, you \\ncan also enjoy Thai food in the comfort of your own home.  Simply follow the recipes \\nin this Thai SELECT Cookbook  to create delicious Thai dishes filled with fun and fiery \\nflavours to enjoy with family and friends.'),\n",
       " Document(metadata={'source': 'D:\\\\Building-Stateful-Multi-AI-Agents-With-LangGraph\\\\data\\\\ThaiRecipes.pdf', 'page': 2}, page_content='Thai SELECT Signature: Granted to restaurants that serve authentic Thai food \\nwith a taste of premium quality, refined decoration and excellent service. The \\nrestaurants bearing this symbol well present outstanding Thai culinary image \\nand the unique character of Thai food. \\nThai SELECT Casual: Given to Thai rest aurants offering Thai foods with         \\nThai taste but have limited services. They vary from simple setups that are'),\n",
       " Document(metadata={'source': 'D:\\\\Building-Stateful-Multi-AI-Agents-With-LangGraph\\\\data\\\\ThaiRecipes.pdf', 'page': 2}, page_content='small in size, offering convenience to diners such as fast food restaurants or \\nfood outlets a t a food court, to rest aurants with limited or no seating, \\nincluding food trucks or food stalls.\\nFor a proper Thai culinary experience... \\nsimply look for the Thai SELECT logo: a sign of authentic Thai cuisine worldwide.\\nContent\\n05 Pad Thai Goong Sod \\nThai Fried Noodles with Shrimps\\n07 Tom Kha Gai \\nChicken and Galangal in Coconut Milk Soup\\n09 Som Tum\\nPapaya Salad\\n11 Yum Woon Sen Neua'),\n",
       " Document(metadata={'source': 'D:\\\\Building-Stateful-Multi-AI-Agents-With-LangGraph\\\\data\\\\ThaiRecipes.pdf', 'page': 2}, page_content='Spicy Beef Glass Noodles Salad\\n13 Gaeng Kiew Wan Goong\\nGreen Curry with Shrimps\\n15 Massaman Gai \\nMassaman Curry with Chicken and Potatoes\\n17 Tom Yum Goong\\nSpicy Prawns Soup with Chili Paste\\n19 Gaeng Som Phak Ruam\\nSour Curry with Mixed Vegetables\\n21 Khao Niew Dam Piek Maphrao Awn\\nBlack Glutinous Rice Pudding with Young Coconut Flesh\\n23 Gluai Buat Chi\\nBananas in Coconut Milk\\nThai SELECT certification identifies Thai restaurants that offer at least 60 percent authentic'),\n",
       " Document(metadata={'source': 'D:\\\\Building-Stateful-Multi-AI-Agents-With-LangGraph\\\\data\\\\ThaiRecipes.pdf', 'page': 2}, page_content='Thai foods on their menus. They also imply that these restaurants employ the same or similar \\ncooking methods as in Thailand, and may import ingredients from Thailand. The certifications, \\nhowever, neither rates foods nor endorses any quality standard of t he restaurants. They \\nmerely indicate authenticity of the Thai foods prepared.\\nThai SELECT is given to restaurants oversea in 3 categories, assessed by type of restaurant, \\ndecoration, and level of food and service excellence.'),\n",
       " Document(metadata={'source': 'D:\\\\Building-Stateful-Multi-AI-Agents-With-LangGraph\\\\data\\\\ThaiRecipes.pdf', 'page': 2}, page_content='Thai SELECT Classic: Awarded to Thai restaurants of excellent quality. \\nThe Thai foods offered have standard taste of authentic Thai Cuisine \\nwith considerably good service. Overall, diners feel these restaurants \\noffer good value for money.'),\n",
       " Document(metadata={'source': 'D:\\\\Building-Stateful-Multi-AI-Agents-With-LangGraph\\\\data\\\\ThaiRecipes.pdf', 'page': 3}, page_content='HEALTH BENEFITS\\nVitamin A, C, B6, K, \\nCalcium, Iron, \\nPhosphorous, Omega 3  \\nPreparation: 15 mins\\nCooking: 10 mins\\nTotal: 25 mins\\nSpicy Level: \\nDirections: 1.  Soak the thin noodles for 5 minutes in \\nwater before cooking to soften. 2. Heat 1 tbsp of \\nvegetable oil in a pan, fry the garlic and shallot, then add \\nthe thin noodles and sprinkle with water until the noodles \\nare soft. 3. Add fish sauce, palm sugar, red pepper flakes \\nand tamarind juice. Stir quickly to prevent the noodles'),\n",
       " Document(metadata={'source': 'D:\\\\Building-Stateful-Multi-AI-Agents-With-LangGraph\\\\data\\\\ThaiRecipes.pdf', 'page': 3}, page_content='from sticking together. 4. Heat another tbsp of oil and \\nadd the salted turnip, tofu, shrimps and dried shrimps. \\nStir and mix together with the noodles and push to one \\nside of the pan leaving space to heat the remaining 1 \\ntbsp of oil. 5. Crack the egg in to the pan and spread \\nthinly. Mix in the prepared noodles, add chives and bean \\nsprouts. Transfer to a serving dish and sprinkle with \\nroasted peanuts, squeeze in fresh lime juice, and garnish \\nwith the uncooked chives and bean sprouts.'),\n",
       " Document(metadata={'source': 'D:\\\\Building-Stateful-Multi-AI-Agents-With-LangGraph\\\\data\\\\ThaiRecipes.pdf', 'page': 3}, page_content='Tips: • Gradually add the cooking oil.\\n• Constantly check the noodles whilst cooking, if\\nthey are  still dry and hard, sprinkle with water or \\nadd more oil.\\nPad Thai Goong Sod\\nThai Fried Noodles with Shrimps\\n{                             }\\nT H A I  S E L E C T  C O O K B O O K  |  0 5\\nINGREDIENTS (One serving)\\n5 peeled Thai shrimps\\n1 tsp chopped garlic\\n1/2 tsp red pepper flakes\\n3 tbsp vegetable oil\\n2 tbsp fish sauce\\n1 tbsp tamarind juice\\n1 tbsp finely chopped shallot\\n1 tbsp salted turnip,'),\n",
       " Document(metadata={'source': 'D:\\\\Building-Stateful-Multi-AI-Agents-With-LangGraph\\\\data\\\\ThaiRecipes.pdf', 'page': 3}, page_content='finely chopped\\n1 tbsp roasted peanuts\\n50 grams palm sugar\\n10 grams dried shrimps\\n50 grams firm tofu, thinly sliced\\n150 grams thin noodles\\n100 grams bean sprouts\\n20 grams chives, cut in one inch\\nlengths\\n1 egg\\n1/4 lime\\n25\\nMin'),\n",
       " Document(metadata={'source': 'D:\\\\Building-Stateful-Multi-AI-Agents-With-LangGraph\\\\data\\\\ThaiRecipes.pdf', 'page': 4}, page_content='INGREDIENTS (One serving)\\n150 grams chicken, cut into  \\n bite-size pieces \\n50 grams sliced young galangal \\n100 grams lightly crushed\\n lemongrass, julienned\\n100 grams straw mushrooms \\n250 grams coconut milk \\n100  grams chicken stock \\n3 tbsp lime juice \\n3 tbsp fish sauce \\n2 leaves kaffir lime, shredded    \\n1-2 bird’s eye chilies, \\n pounded  \\n3 leaves coriander\\nPreparation: 10 mins\\nCooking: 20 mins\\nTotal: 30 mins\\nSpicy Level: \\nHEALTH BENEFITS\\nVitamin A, B1, B2, B6, C, \\nE, K, Folate, Copper,'),\n",
       " Document(metadata={'source': 'D:\\\\Building-Stateful-Multi-AI-Agents-With-LangGraph\\\\data\\\\ThaiRecipes.pdf', 'page': 4}, page_content='Iron, Phosphorus\\nDirections:  1. Bring the chicken stock and coconut milk \\nto a slow boil. Add galangal, lemongrass, chicken and \\nmushrooms. When the soup returns to a boil, season it \\nwith fish sauce. 2. Wait until the chicken is cooked, and \\nthen add the kaffir lime leaves and bird’s eye chilies. \\nRemove the pot from heat and add lime juice. 3. Garnish \\nwith coriander leaves.  \\nTips: • Keep the heat low throughout the cooking process.  \\nHigh heat will make the oil in the coconut milk'),\n",
       " Document(metadata={'source': 'D:\\\\Building-Stateful-Multi-AI-Agents-With-LangGraph\\\\data\\\\ThaiRecipes.pdf', 'page': 4}, page_content='separate and rise to the top. \\n• If you’re using mature galangal, reduce the amount. \\n• Lime juice becomes more aromatic when it is added\\nafter the pot is removed from heat.\\n• Reduce amount of chilies for a milder taste.\\n{                 }Tom Kha Gai\\nChicken and Galangal in Coconut Milk Soup\\nT H A I  S E L E C T  C O O K B O O K  |  0 7\\n30\\nMin'),\n",
       " Document(metadata={'source': 'D:\\\\Building-Stateful-Multi-AI-Agents-With-LangGraph\\\\data\\\\ThaiRecipes.pdf', 'page': 5}, page_content='Directions:  1. Roughly pound the garlic with bird’s eye \\nchilies in a mortar. Add long beans, roasted peanuts and \\ndried shrimps. Roughly pound the mixture again. Season \\nwith palm sugar, fish sauce and lime juice. Add shredded \\npapaya and stir. Add cherry tomatoes. 2. Serve with fresh \\nwater morning glory tops, cabbage and long beans.\\nTips: • To keep the papaya fresh, clean the whole fruit \\nand soak it in water for 30 minutes before  peeling.'),\n",
       " Document(metadata={'source': 'D:\\\\Building-Stateful-Multi-AI-Agents-With-LangGraph\\\\data\\\\ThaiRecipes.pdf', 'page': 5}, page_content='If there is any shredded papaya left over, keep it\\nin the fridge.   \\n• A wooden mortar is recommended to keep the\\nshredded papaya in good shape. \\n• If you do not have a set of mortar and pestle, mix\\nthe ingredients in a mixing bowl and serve. \\n• Use crushed almonds or cashew nuts instead of\\npeanuts in case of peanut allergy.\\n• Somtum is usually served with barbecued chicken\\nand steamed white glutinous rice.\\nHEALTH BENEFITS\\nVitamin A, B1, B2, C, E, \\nK, Folate, Iron, \\nManganese, Potassium'),\n",
       " Document(metadata={'source': 'D:\\\\Building-Stateful-Multi-AI-Agents-With-LangGraph\\\\data\\\\ThaiRecipes.pdf', 'page': 5}, page_content='Preparation: 20 mins\\nCooking: 5 mins\\nTotal: 25 mins\\nSpicy Level: \\nINGREDIENTS (One serving)\\n200 grams shredded papaya\\n4 cloves garlic\\n2 bird’s eye chilies\\n40 grams halved cherry\\n tomatoes\\n30 grams long beans, chopped\\ninto one inch pieces\\n2 tbsp roasted peanuts\\n1 tbsp fish sauce\\n1 1/2 tbsp lime juice\\n10 grams dried shrimps\\n20 grams palm sugar\\n2 stems water morning glory\\n tops\\n1/4  cabbage, chopped  \\ninto large pieces\\n{             }Som Tum\\nPapaya Salad'),\n",
       " Document(metadata={'source': 'D:\\\\Building-Stateful-Multi-AI-Agents-With-LangGraph\\\\data\\\\ThaiRecipes.pdf', 'page': 5}, page_content='T H A I  S E L E C T  C O O K B O O K  |  0 9\\n25\\nMin'),\n",
       " Document(metadata={'source': 'D:\\\\Building-Stateful-Multi-AI-Agents-With-LangGraph\\\\data\\\\ThaiRecipes.pdf', 'page': 6}, page_content='Directions:  1. Briefly grill the beef until cooked. 2. In a \\nbowl, mix the glass noodles, chicken stock and beef with \\ngarlic, onion, chilies, celery, fish sauce, lime juice and \\ntomatoes. If the salad is too dry, add more chicken stock. \\nTaste and add more fish sauce and lime juice if \\nnecessary. 3. To serve, simply place on a serving plate. \\nSprinkle with fried dried shrimps and garnish with \\ncoriander leaves.\\nTips: • Before cooking, soak the glass noodles in cold'),\n",
       " Document(metadata={'source': 'D:\\\\Building-Stateful-Multi-AI-Agents-With-LangGraph\\\\data\\\\ThaiRecipes.pdf', 'page': 6}, page_content='water for 10 minutes and drain. Pour hot water over \\nthe noodles through a strainer . After cooked in hot \\nwater , quickly soak in cold water for a few minutes \\nand strain. Mix with other ingredients when \\nready to serve.\\n• To retain its freshness, vegetables such as tomatoes,\\nonions and celery should be added last.\\n• Crushed roasted peanuts may be added as desired. \\nINGREDIENTS (One serving)\\n200 grams  cooked glass noodles \\n100  grams grilled beef\\n20 grams dried shrimps, fried\\n until crispy'),\n",
       " Document(metadata={'source': 'D:\\\\Building-Stateful-Multi-AI-Agents-With-LangGraph\\\\data\\\\ThaiRecipes.pdf', 'page': 6}, page_content='4 cloves garlic, minced \\n1 onion, julienned\\n2-3 Thai chilies, sliced\\n thinly\\n2 stalks Thai celery, chopped \\n2 tbsp fish sauce\\n2 tbsp lime juice\\n5 cherry tomatoes, \\nhalved\\n1 tbsp chopped coriander\\n4 tsp chicken stock\\n5 leaves coriander\\nHEALTH BENEFITS\\nVitamin A, B1, B2, B6,\\nC, K, Folate, Calcium,\\nIron, Potassium\\nPreparation: 20 mins\\nCooking: 10 mins\\nTotal: 30 mins\\nSpicy Level: \\n{                            }Yum Woon Sen Neua\\nSpicy Beef Glass Noodles Salad'),\n",
       " Document(metadata={'source': 'D:\\\\Building-Stateful-Multi-AI-Agents-With-LangGraph\\\\data\\\\ThaiRecipes.pdf', 'page': 6}, page_content='T H A I  S E L E C T  C O O K B O O K  |  1 1\\n30\\nMin'),\n",
       " Document(metadata={'source': 'D:\\\\Building-Stateful-Multi-AI-Agents-With-LangGraph\\\\data\\\\ThaiRecipes.pdf', 'page': 7}, page_content='HEALTH BENEFITS\\nVitamin A, B6, C, E, K, \\nMagnesium, Manganese, \\nPhosphorus, Potassium\\nPreparation: 10 mins\\nCooking: 25 mins\\nTotal: 35 mins\\nSpicy Level: \\nGaeng Kiew Wan Goong\\nGreen Curry with Shrimps\\n{                                }\\nINGREDIENTS (Two servings)\\n8 peeled Thai shrimps\\n100 grams round eggplant  \\nor brinjal, chopped \\n into four pieces\\n100 grams coconut cream\\n(the top layer of  \\ncoconut milk)\\n500 grams coconut milk\\n40 grams Kiew Wan curry paste\\n20 grams palm sugar\\n2 tbsp fish sauce'),\n",
       " Document(metadata={'source': 'D:\\\\Building-Stateful-Multi-AI-Agents-With-LangGraph\\\\data\\\\ThaiRecipes.pdf', 'page': 7}, page_content='2 sliced red spur  \\n chilies \\n4 grams sweet basil leaves\\n2 leaves kaffir lime, shredded  \\nDirections:  1. Simmer coconut cream in a pan until the \\noil separates. Add Kiew Wan curry paste and stir until it \\ndissolves. 2. Add shrimps and fry until well cooked. Pour \\ninto a pot then add coconut milk. Bring to full boil over \\nmedium heat. 3. Add round eggplant or brinjal and \\nseason with fish sauce and palm sugar. When the curry \\nreturns to a boil, the round eggplant or brinjal will be'),\n",
       " Document(metadata={'source': 'D:\\\\Building-Stateful-Multi-AI-Agents-With-LangGraph\\\\data\\\\ThaiRecipes.pdf', 'page': 7}, page_content='cooked. 4. Add red spur chilies, shredded kaffir lime \\nleaves and sweet basil leaves. Serve in a bowl.\\nTips: • If the curry paste is burned while frying, the \\ncurry will be darker than usual and have a slightly  \\nbitter taste. Likewise, if undercooked, it will appear \\npale in color and mild in taste and aroma. \\n• As an alternative, shrimp can be replaced with\\nchicken, pork or beef. \\n• To keep the round eggplant or brinjal fresh and\\ngreen, cut and soak in slightly salted water. Only'),\n",
       " Document(metadata={'source': 'D:\\\\Building-Stateful-Multi-AI-Agents-With-LangGraph\\\\data\\\\ThaiRecipes.pdf', 'page': 7}, page_content='use when the curry is fully boiling.\\nT H A I  S E L E C T  C O O K B O O K  |  1 3\\n35\\nMin'),\n",
       " Document(metadata={'source': 'D:\\\\Building-Stateful-Multi-AI-Agents-With-LangGraph\\\\data\\\\ThaiRecipes.pdf', 'page': 8}, page_content='INGREDIENTS (Two servings)\\n300 grams chicken rump\\n80 grams Massaman curry paste\\n100 grams coconut cream\\n(the top layer of \\n coconut milk)\\n300 grams coconut milk\\n250 grams chicken stock\\n50 grams roasted peanuts\\n200 grams potatoes, chopped  \\ninto large chunks\\n100 grams onion, chopped into \\n large chunks\\n30 grams palm sugar\\n2 tbsp tamarind juice\\n1 tbsp fish sauce\\nHEALTH BENEFITS\\nVitamin A, B6, C, E, K, \\nCalcium, Copper, Iron,\\nMagnesium, Potassium \\nPreparation: 15 mins\\nCooking: 30 mins'),\n",
       " Document(metadata={'source': 'D:\\\\Building-Stateful-Multi-AI-Agents-With-LangGraph\\\\data\\\\ThaiRecipes.pdf', 'page': 8}, page_content='Total: 45 mins\\nSpicy Level:\\n{                    }Massaman Gai\\nMassaman Curry with Chicken and Potatoes\\nDirections:  1. Simmer coconut cream over medium heat \\ntill the oil separates. Add Massaman curry paste and fry \\nuntil the mix darkens and gives off a fragrance. 2. Divide \\nthe coconut milk in half. Pour the first half into the pot \\nand continue simmering until the mix starts to dry out. \\nThen add chicken and the remaining coconut milk. 3. Add'),\n",
       " Document(metadata={'source': 'D:\\\\Building-Stateful-Multi-AI-Agents-With-LangGraph\\\\data\\\\ThaiRecipes.pdf', 'page': 8}, page_content='the chicken stock and keep simmering until it comes to a \\nboil. 4. Add roasted peanuts, potatoes and simmer until \\nthe chicken is tender. 5. When the potatoes are cooked, \\nseason with fish sauce, palm sugar and tamarind juice. \\nAdd onion and cook through until the soup begins to dry \\nout. Serve in a bowl.\\nTips: • To make tamarind juice, mix 1 portion of the\\n tamarind with 3 to 3.5 portions of water. \\n• Different brands of instant tamarind juice have\\ndifferent flavors and levels of sourness.'),\n",
       " Document(metadata={'source': 'D:\\\\Building-Stateful-Multi-AI-Agents-With-LangGraph\\\\data\\\\ThaiRecipes.pdf', 'page': 8}, page_content='T H A I  S E L E C T  C O O K B O O K  |  1 5\\n45\\nMin'),\n",
       " Document(metadata={'source': 'D:\\\\Building-Stateful-Multi-AI-Agents-With-LangGraph\\\\data\\\\ThaiRecipes.pdf', 'page': 9}, page_content='INGREDIENTS (One serving)\\n3 peeled Thai prawns \\n300 grams chicken or vegetable\\n stock\\n100 grams straw mushrooms \\n100 grams lightly crushed  \\nlemongrass, chopped\\n into one inch pieces\\n2 grams coriander roots\\n2 tbsp fish sauce\\n2 tbsp lime juice\\n3 leaves kaffir lime, shredded \\n1-2 lightly crushed bird’s\\n eye chilies\\n5 leaves coriander\\n1 tbsp chili paste\\n100 grams evaporated milk\\nHEALTH BENEFITS\\nVitamin A, B1, B2, C, E,\\nK,  Folate, Calcium, \\nIron, Phosphorus, Zinc\\nPreparation: 20 mins'),\n",
       " Document(metadata={'source': 'D:\\\\Building-Stateful-Multi-AI-Agents-With-LangGraph\\\\data\\\\ThaiRecipes.pdf', 'page': 9}, page_content='Cooking: 20 mins\\nTotal: 40 mins\\nSpicy Level: \\nDirections:  1. Boil the stock and add lemongrass and \\ncoriander roots. Continue boiling for a few minutes. \\n2. Sieve out the ingredients. Bring the stock back to a\\nboil and add straw mushrooms. 3. Add prawns and wait \\nuntil it returns to a full boil, then add fish sauce and \\nkaffir lime leaves. 4. Add lime juice and chilies. Serve \\nTom Yum Goong in a bowl. Garnish with coriander leaves \\n(mix with chili paste and evaporated milk as an alterna-'),\n",
       " Document(metadata={'source': 'D:\\\\Building-Stateful-Multi-AI-Agents-With-LangGraph\\\\data\\\\ThaiRecipes.pdf', 'page': 9}, page_content='tive of Tom Yum Num Khon). \\nTips:  • Fish sauce becomes aromatic only when it is \\nadded to the boiling soup. \\n• Lime juice becomes aromatic only when it is\\nadded after the soup is removed from heat.\\nTom Yum Goong\\nSpicy Prawns Soup with Chili Paste\\n{                      }\\nT H A I  S E L E C T  C O O K B O O K  |  1 7\\n40\\nMin'),\n",
       " Document(metadata={'source': 'D:\\\\Building-Stateful-Multi-AI-Agents-With-LangGraph\\\\data\\\\ThaiRecipes.pdf', 'page': 10}, page_content='Preparation: 15 mins\\nCooking: 30 mins\\nTotal: 45 mins\\nSpicy Level: \\nHEALTH BENEFITS\\nVitamin A, B1, B2, B6, C, \\nK, Folate, Calcium, Iron, \\nManganese, Omega 3\\nINGREDIENTS (One serving)\\n5 peeled Thai shrimps\\n80 grams long beans, chopped\\n into one inch pieces\\n80 grams cauliflower, cut into  \\n bite size pieces\\n100 grams cabbage, chopped\\n two inch cubes\\n40 grams Gaeng Som paste\\n500 grams vegetable stock or  \\nwater\\n4 tbsp tamarind juice\\n15 grams palm sugar\\n2 tbsp fish sauce'),\n",
       " Document(metadata={'source': 'D:\\\\Building-Stateful-Multi-AI-Agents-With-LangGraph\\\\data\\\\ThaiRecipes.pdf', 'page': 10}, page_content='Directions:  1. Clean the shrimps thoroughly and devein \\nthem. Bring the vegetable stock (or water) to a boil and \\nadd Gaeng Som paste. 2. When the soup returns to a full \\nboil, add vegetables in this order: cauliflower, long beans \\nand cabbage. 3. Season with palm sugar, tamarind juice \\nand fish sauce, making sure everything is well dissolved. \\n4.Add shrimps and cook briefly.\\nTips: • As an alternative, shrimp can be replaced with fish.\\n• Seafood cooks quite quickly thus shrimp and fish'),\n",
       " Document(metadata={'source': 'D:\\\\Building-Stateful-Multi-AI-Agents-With-LangGraph\\\\data\\\\ThaiRecipes.pdf', 'page': 10}, page_content='should be in the boiling soup only briefly, and\\nthen whisked out and served to keep it fresh\\nand juicy.\\n• Prepare the drier, tougher ingredients first, like\\ncauliflower and long beans, followed by leafy\\nvegetables like cabbage.\\nGaeng Som Phak Ruam\\nSour Curry with Mixed Vegetables\\n{                              }\\nT H A I  S E L E C T  C O O K B O O K  |  1 9\\n45\\nMin'),\n",
       " Document(metadata={'source': 'D:\\\\Building-Stateful-Multi-AI-Agents-With-LangGraph\\\\data\\\\ThaiRecipes.pdf', 'page': 11}, page_content='INGREDIENTS (Four servings)\\n2 1/2 cups black glutinous rice \\n1  cup coconut cream \\n2  cups sugar \\n5  cups young coconut juice \\n3  cups young coconut flesh,  \\n cut into slices \\n1/2  tsp salt\\nHEALTH BENEFITS\\nVitamin B, C, E, K, \\nFolate, Iron, Magnesium,\\nManganese, Selenium\\nPreparation: 10 mins\\nCooking: 20 mins\\nTotal: 30 mins\\nDirections:  1. Rinse the black glutinous rice in water \\ntwice. Pour into a pot and add coconut juice. Place over \\nmedium heat and boil until the rice is thoroughly cooked.'),\n",
       " Document(metadata={'source': 'D:\\\\Building-Stateful-Multi-AI-Agents-With-LangGraph\\\\data\\\\ThaiRecipes.pdf', 'page': 11}, page_content='2.Add sugar and continue boiling until well dissolved.\\n3. Add coconut flesh. Stir well. Bring to a boil once again\\nand turn off the heat. 4. Mix the coconut cream and salt \\ntogether and place over low heat. Stir regularly to \\nprevent the coconut cream from separating. When the \\ncoconut cream is well heated and salt is thoroughly \\ndissolved, remove from the heat. 5. Spoon the sweet \\nglutinous rice into a serving bowl and top with some \\nsalted coconut cream.'),\n",
       " Document(metadata={'source': 'D:\\\\Building-Stateful-Multi-AI-Agents-With-LangGraph\\\\data\\\\ThaiRecipes.pdf', 'page': 11}, page_content='Tips: • The young coconut flesh can  be substituted with \\nlongan.\\n• The black glutinous rice can be substituted with\\nthe white kind which is widely used in many Thai \\ndesserts including the popular “Mango with \\nSticky Rice.”\\nKhao Niew Dam Piek Maphrao Awn\\nBlack Glutinous Rice Pudding with Young Coconut Flesh\\n{                                         }\\nT H A I  S E L E C T  C O O K B O O K  |  2 1\\n30\\nMin'),\n",
       " Document(metadata={'source': 'D:\\\\Building-Stateful-Multi-AI-Agents-With-LangGraph\\\\data\\\\ThaiRecipes.pdf', 'page': 12}, page_content='HEALTH BENEFITS\\nVitamin B6, B12, C, E, K, \\nFolate, Iron, Magnesium,\\nPotassium, Zinc\\nPreparation: 10 mins\\nCooking: 20 mins\\nTotal: 30 mins\\nINGREDIENTS (Two servings)\\n5  almost-ripe Nam Wa  \\n bananas \\n1/4  cup coconut cream \\n1 1/2  cups coconut milk \\n1/2  cup sugar \\n1/2  tbsp salt \\nDirections:  1. Peel the bananas and slit vertically into \\nhalves, then horizontally in more halves. Pour coconut \\nmilk into a pot and turn on the heat. Once boiling, lower'),\n",
       " Document(metadata={'source': 'D:\\\\Building-Stateful-Multi-AI-Agents-With-LangGraph\\\\data\\\\ThaiRecipes.pdf', 'page': 12}, page_content='heat to medium and add bananas. 2. Once bananas are \\ntender, turn off the heat. Do not overcook. Add sugar and \\nsalt and keep stirring until well dissolved. 3. Add coconut \\ncream. Allow to cool down to room temperature before \\nserving. \\nTips: • As an alternative, Nam Wa bananas can be\\nreplaced with potato, sweet potato, pumpkin or\\ntapioca. Boil until cooked only, avoid over\\nboiling until mashed.\\n• When cooking unripe bananas, boil them in water'),\n",
       " Document(metadata={'source': 'D:\\\\Building-Stateful-Multi-AI-Agents-With-LangGraph\\\\data\\\\ThaiRecipes.pdf', 'page': 12}, page_content='for 3-5 minutes to get rid of the stickiness. Young \\nfruits normally taste less sweet and therefore will \\nrequire extra sugar in the coconut milk. \\nGluai Buat Chi\\nBananas in Coconut Milk\\n{                   }\\nT H A I  S E L E C T  C O O K B O O K  |  2 3\\n30\\nMin'),\n",
       " Document(metadata={'source': 'D:\\\\Building-Stateful-Multi-AI-Agents-With-LangGraph\\\\data\\\\ThaiRecipes.pdf', 'page': 13}, page_content='Contact\\nFor more information, please contact: \\nOffice of Agricultural and Industrial \\nTrade Promotion\\n563 Nonthaburi 1 Rd., Bangkrasor, \\nNonthaburi 11000, Thailand \\nTel: +66 (0) 2507 8341, 2507 8394 \\nFax: +66 (0) 2547 4230-31\\nWebsite: www.thaiselect.com, \\nwww.thaitrade.com')]"
      ]
     },
     "execution_count": 8,
     "metadata": {},
     "output_type": "execute_result"
    }
   ],
   "source": [
    "doc_chunks"
   ]
  },
  {
   "cell_type": "code",
   "execution_count": 2,
   "metadata": {},
   "outputs": [
    {
     "name": "stderr",
     "output_type": "stream",
     "text": [
      "d:\\Building-Stateful-Multi-AI-Agents-With-LangGraph\\myenv\\lib\\site-packages\\tqdm\\auto.py:21: TqdmWarning: IProgress not found. Please update jupyter and ipywidgets. See https://ipywidgets.readthedocs.io/en/stable/user_install.html\n",
      "  from .autonotebook import tqdm as notebook_tqdm\n"
     ]
    }
   ],
   "source": [
    "import os\n",
    "from langchain_google_genai import GoogleGenerativeAIEmbeddings\n",
    "\n",
    "# Get the API key from environment variables\n",
    "api_key = os.getenv('google_api_key')\n",
    "os.environ[\"GOOGLE_API_KEY\"] = api_key\n",
    "\n",
    "# Download the embeddings from Hugging Face\n",
    "def get_google_embeddings():\n",
    "    embeddings = GoogleGenerativeAIEmbeddings(model=\"models/embedding-001\")\n",
    "    return embeddings"
   ]
  },
  {
   "cell_type": "code",
   "execution_count": 7,
   "metadata": {},
   "outputs": [],
   "source": [
    "embeddings = get_google_embeddings()"
   ]
  },
  {
   "cell_type": "code",
   "execution_count": 8,
   "metadata": {},
   "outputs": [],
   "source": [
    "from langchain.vectorstores.cassandra import Cassandra\n",
    "astra_vector_store=Cassandra(\n",
    "    embedding=embeddings,\n",
    "    table_name=\"qa_mini_demo\",\n",
    "    session=None,\n",
    "    keyspace=None\n",
    "\n",
    ")"
   ]
  },
  {
   "cell_type": "code",
   "execution_count": 18,
   "metadata": {},
   "outputs": [
    {
     "name": "stdout",
     "output_type": "stream",
     "text": [
      "Inserted 45 headlines.\n"
     ]
    }
   ],
   "source": [
    "from langchain.indexes.vectorstore import VectorStoreIndexWrapper\n",
    "astra_vector_store.add_documents(doc_chunks)\n",
    "print(\"Inserted %i headlines.\" % len(doc_chunks))\n",
    "\n",
    "astra_vector_index = VectorStoreIndexWrapper(vectorstore=astra_vector_store)"
   ]
  },
  {
   "cell_type": "code",
   "execution_count": 9,
   "metadata": {},
   "outputs": [],
   "source": [
    "retriever = astra_vector_store.as_retriever(\n",
    "    search_type=\"similarity_score_threshold\",\n",
    "    search_kwargs={\"k\": 3, \"score_threshold\": 0.5}\n",
    ")"
   ]
  },
  {
   "cell_type": "code",
   "execution_count": 10,
   "metadata": {},
   "outputs": [
    {
     "name": "stderr",
     "output_type": "stream",
     "text": [
      "d:\\Building-Stateful-Multi-AI-Agents-With-LangGraph\\myenv\\lib\\site-packages\\IPython\\core\\interactiveshell.py:3577: LangChainDeprecationWarning: As of langchain-core 0.3.0, LangChain uses pydantic v2 internally. The langchain_core.pydantic_v1 module was a compatibility shim for pydantic v1, and should no longer be used. Please update the code to import from Pydantic directly.\n",
      "\n",
      "For example, replace imports like: `from langchain_core.pydantic_v1 import BaseModel`\n",
      "with: `from pydantic import BaseModel`\n",
      "or the v1 compatibility namespace if you are working in a code base that has not been fully upgraded to pydantic 2 yet. \tfrom pydantic.v1 import BaseModel\n",
      "\n",
      "  exec(code_obj, self.user_global_ns, self.user_ns)\n"
     ]
    }
   ],
   "source": [
    "### Define Router\n",
    "\n",
    "# Import necessary modules\n",
    "from typing import Literal  # For defining fields with restricted literal values  # For creating user prompt templates\n",
    "from langchain_core.pydantic_v1 import BaseModel, Field  # For data validation and defining model fields with metadata\n",
    "\n",
    "\n",
    "# Define a Pydantic model for routing queries\n",
    "class RouteQuery(BaseModel):\n",
    "    \"\"\"\n",
    "    Route a user query to the most relevant datasource.\n",
    "    This model determines whether a user query should be processed \n",
    "    by duckduckgo-search or a vectorstore.\n",
    "    \"\"\"\n",
    "    datasource: Literal[\"vectorstore\", \"duckduckgo-search\"] = Field(\n",
    "        ...,  # Indicates this field is required\n",
    "        description=\"Given a user question, choose to route it to duckduckgo-search or a vectorstore.\",\n",
    "    )"
   ]
  },
  {
   "cell_type": "code",
   "execution_count": 11,
   "metadata": {},
   "outputs": [],
   "source": [
    "from langchain_google_genai import ChatGoogleGenerativeAI\n",
    "from langchain.prompts import ChatPromptTemplate\n",
    "import os\n",
    "\n",
    "# Initialize the ChatGoogleGenerativeAI model with convert_system_message_to_human set to True\n",
    "llm = ChatGoogleGenerativeAI(\n",
    "    model='gemini-2.0-flash-exp',  # Specify the model version\n",
    "    google_api_key=os.getenv('GOOGLE_API_KEY'),\n",
    "    temperature=0.1,  # Controls randomness; higher values yield more creative responses\n",
    "    max_output_tokens=30,  # Limits the length of the generated response\n",
    "    #top_k=50,  # Number of top tokens to consider for each generation step\n",
    "    #top_p=0.95,  # Cumulative probability for token selection\n",
    "    convert_system_message_to_human=True  # Merge SystemMessage into HumanMessage\n",
    ")\n",
    "\n",
    "# Configure the structured output for routing\n",
    "structured_llm_router = llm.with_structured_output(RouteQuery)\n",
    "\n",
    "# Define the system message for routing logic\n",
    "system_message = \"\"\"\n",
    "You are ThaiRecipes, a helpful and concise assistant specializing in Thai cuisine.\n",
    "\n",
    "For inquiries related to Thai recipes, ingredients, cooking techniques, or cultural food traditions, use the vectorstore to retrieve the most relevant documents.\n",
    "\n",
    "For all other topics, perform a DuckDuckGo search to find the best available information.\n",
    "\n",
    "Answer only questions related to Thai cuisine yourself. Ensure users always receive the most accurate, reliable, and helpful information based on their queries and outformat in table .\n",
    "\"\"\"\n",
    "\n",
    "# Create the routing prompt\n",
    "route_prompt = ChatPromptTemplate.from_messages(\n",
    "    [\n",
    "        (\"system\", system_message),\n",
    "        (\"human\", \"{question}\"),\n",
    "    ]\n",
    ")\n",
    "\n",
    "# Combine the routing prompt with the structured LLM\n",
    "question_router = route_prompt | structured_llm_router\n",
    "\n",
    "# Test the routing system with sample questions\n",
    "#print(question_router.invoke({\"question\": \"Who is Shahrukh Khan?\"}))\n",
    "#print(question_router.invoke({\"question\": \"Suresh beekhani\"}))\n"
   ]
  },
  {
   "cell_type": "code",
   "execution_count": 12,
   "metadata": {},
   "outputs": [],
   "source": [
    "from langchain_community.tools import DuckDuckGoSearchRun\n",
    "\n",
    "search = DuckDuckGoSearchRun()\n",
    "\n"
   ]
  },
  {
   "cell_type": "code",
   "execution_count": 13,
   "metadata": {},
   "outputs": [],
   "source": [
    "from typing import List\n",
    "from typing_extensions import TypedDict\n",
    "\n",
    "# Define the GraphState class using TypedDict\n",
    "class GraphState(TypedDict):\n",
    "    \"\"\"\n",
    "    Represents the state of our graph.\n",
    "\n",
    "    Attributes:\n",
    "        question: A string representing a question.\n",
    "        generation: A string representing an LLM generation.\n",
    "        documents: A list of strings representing related documents.\n",
    "    \"\"\"\n",
    "    question: str\n",
    "    generation: str\n",
    "    documents: List[str]\n"
   ]
  },
  {
   "cell_type": "code",
   "execution_count": 14,
   "metadata": {},
   "outputs": [],
   "source": [
    "# Import the Document class from langchain.schema, which represents a document object.\n",
    "from langchain.schema import Document\n",
    "\n",
    "# Define a function 'retrieve' that retrieves documents based on the current state\n",
    "def retrieve(state):\n",
    "    \"\"\"\n",
    "    Retrieve documents based on the provided question in the state.\n",
    "\n",
    "    Args:\n",
    "        state (dict): The current graph state, which contains the key \"question\".\n",
    "\n",
    "    Returns:\n",
    "        state (dict): A new state with an added key \"documents\", which contains the retrieved documents.\n",
    "    \"\"\"\n",
    "    # Print a message to indicate the start of the retrieve process\n",
    "    #print(\"---RETRIEVE---\")\n",
    "\n",
    "    # Extract the 'question' from the state\n",
    "    question = state[\"question\"]\n",
    "\n",
    "    # Call the retriever (external tool/function) to fetch documents related to the question\n",
    "    documents = retriever.invoke(question)\n",
    "\n",
    "    # Return the updated state, including the retrieved documents and the original question\n",
    "    return {\"documents\": documents, \"question\": question}\n",
    "\n",
    "\n",
    "# Define a function 'DuckDuckGo_search' that performs a search using DuckDuckGo based on the rephrased question\n",
    "def DuckDuckGo_search(state):\n",
    "    \"\"\"\n",
    "    Perform a search using DuckDuckGo based on the re-phrased question.\n",
    "\n",
    "    Args:\n",
    "        state (dict): The current graph state, which contains the key \"question\".\n",
    "\n",
    "    Returns:\n",
    "        state (dict): Updates the \"documents\" key with the results from the DuckDuckGo search.\n",
    "    \"\"\"\n",
    "    # Print messages for debugging purposes to indicate the start of the search process\n",
    "    #print(\"---wikipedia---\")\n",
    "    #print(\"---HELLO--\")\n",
    "\n",
    "    # Extract the 'question' from the state\n",
    "    question = state[\"question\"]\n",
    "    #print(question)\n",
    "\n",
    "    # Perform the search using DuckDuckGo (search.invoke is assumed to be an external search function)\n",
    "    docs = search.invoke({\"query\": question})\n",
    "\n",
    "    # Assign the search results to a variable 'DuckDuckGo_results'\n",
    "    DuckDuckGo_results = docs\n",
    "\n",
    "    # Convert the search results into a Document object, as expected by the subsequent processing steps\n",
    "    DuckDuckGo_results = Document(page_content=DuckDuckGo_results)\n",
    "\n",
    "    # Return the updated state, including the search results (wrapped in a Document) and the original question\n",
    "    return {\"documents\": DuckDuckGo_results, \"question\": question}\n"
   ]
  },
  {
   "cell_type": "code",
   "execution_count": 15,
   "metadata": {},
   "outputs": [],
   "source": [
    "### Edges ###\n",
    "\n",
    "\n",
    "def route_question(state):\n",
    "    \"\"\"\n",
    "    Route question to wiki search or RAG.\n",
    "\n",
    "    Args:\n",
    "        state (dict): The current graph state\n",
    "\n",
    "    Returns:\n",
    "        str: Next node to call\n",
    "    \"\"\"\n",
    "\n",
    "    #print(\"---ROUTE QUESTION---\")\n",
    "    question = state[\"question\"]\n",
    "    source = question_router.invoke({\"question\": question})\n",
    "    if source.datasource == \"duckduckgo-search\":\n",
    "        #print(\"---ROUTE QUESTION TO Wiki SEARCH---\")\n",
    "        return \"duckduckgo-search\"\n",
    "    elif source.datasource == \"vectorstore\":\n",
    "        #print(\"---ROUTE QUESTION TO RAG---\")\n",
    "        return \"vectorstore\""
   ]
  },
  {
   "cell_type": "code",
   "execution_count": 27,
   "metadata": {},
   "outputs": [],
   "source": [
    "from langgraph.graph import END, StateGraph, START\n",
    "\n",
    "workflow = StateGraph(GraphState)\n",
    "# Define the nodes\n",
    "workflow.add_node(\"duckduckgo-search\", DuckDuckGo_search)  # web search\n",
    "workflow.add_node(\"retrieve\", retrieve)  # retrieve\n",
    "\n",
    "# Build graph\n",
    "workflow.add_conditional_edges(\n",
    "    START,\n",
    "    route_question,\n",
    "    {\n",
    "        \"duckduckgo-search\": \"duckduckgo-search\",\n",
    "        \"vectorstore\": \"retrieve\",\n",
    "    },\n",
    ")\n",
    "workflow.add_edge( \"retrieve\", END)\n",
    "workflow.add_edge( \"duckduckgo-search\", END)\n",
    "\n",
    "# Compile\n",
    "app = workflow.compile()"
   ]
  },
  {
   "cell_type": "code",
   "execution_count": 32,
   "metadata": {},
   "outputs": [],
   "source": [
    "# Define the function and run the app\n",
    "def run_app(question):\n",
    "    result = app.invoke({\"question\": question})\n",
    "    return result  # Return the result from the app invocation\n"
   ]
  },
  {
   "cell_type": "code",
   "execution_count": 44,
   "metadata": {},
   "outputs": [
    {
     "name": "stderr",
     "output_type": "stream",
     "text": [
      "d:\\Building-Stateful-Multi-AI-Agents-With-LangGraph\\myenv\\lib\\site-packages\\langchain_google_genai\\chat_models.py:310: UserWarning: Convert_system_message_to_human will be deprecated!\n",
      "  warnings.warn(\"Convert_system_message_to_human will be deprecated!\")\n"
     ]
    },
    {
     "name": "stdout",
     "output_type": "stream",
     "text": [
      "{'question': 'HOW make tae', 'documents': [Document(id='112fb431e6e845669cbb35573e27a5b1', metadata={'page': '3.0', 'source': 'D:\\\\Building-Stateful-Multi-AI-Agents-With-LangGraph\\\\data\\\\ThaiRecipes.pdf'}, page_content='finely chopped\\n1 tbsp roasted peanuts\\n50 grams palm sugar\\n10 grams dried shrimps\\n50 grams firm tofu, thinly sliced\\n150 grams thin noodles\\n100 grams bean sprouts\\n20 grams chives, cut in one inch\\nlengths\\n1 egg\\n1/4 lime\\n25\\nMin'), Document(id='e245ba0e182a49ae93f6a9ec8489dd72', metadata={'page': '11.0', 'source': 'D:\\\\Building-Stateful-Multi-AI-Agents-With-LangGraph\\\\data\\\\ThaiRecipes.pdf'}, page_content='2.Add sugar and continue boiling until well dissolved.\\n3. Add coconut flesh. Stir well. Bring to a boil once again\\nand turn off the heat. 4. Mix the coconut cream and salt \\ntogether and place over low heat. Stir regularly to \\nprevent the coconut cream from separating. When the \\ncoconut cream is well heated and salt is thoroughly \\ndissolved, remove from the heat. 5. Spoon the sweet \\nglutinous rice into a serving bowl and top with some \\nsalted coconut cream.'), Document(id='e35ff3ae54fe4b2cac2943931214c48a', metadata={'page': '3.0', 'source': 'D:\\\\Building-Stateful-Multi-AI-Agents-With-LangGraph\\\\data\\\\ThaiRecipes.pdf'}, page_content='from sticking together. 4. Heat another tbsp of oil and \\nadd the salted turnip, tofu, shrimps and dried shrimps. \\nStir and mix together with the noodles and push to one \\nside of the pan leaving space to heat the remaining 1 \\ntbsp of oil. 5. Crack the egg in to the pan and spread \\nthinly. Mix in the prepared noodles, add chives and bean \\nsprouts. Transfer to a serving dish and sprinkle with \\nroasted peanuts, squeeze in fresh lime juice, and garnish \\nwith the uncooked chives and bean sprouts.')]}\n"
     ]
    }
   ],
   "source": [
    "question = \"HOW make tae\"\n",
    "print(run_app(question))"
   ]
  }
 ],
 "metadata": {
  "kernelspec": {
   "display_name": "Python 3",
   "language": "python",
   "name": "python3"
  },
  "language_info": {
   "codemirror_mode": {
    "name": "ipython",
    "version": 3
   },
   "file_extension": ".py",
   "mimetype": "text/x-python",
   "name": "python",
   "nbconvert_exporter": "python",
   "pygments_lexer": "ipython3",
   "version": "3.10.16"
  }
 },
 "nbformat": 4,
 "nbformat_minor": 2
}
